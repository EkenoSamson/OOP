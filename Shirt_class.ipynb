{
  "nbformat": 4,
  "nbformat_minor": 0,
  "metadata": {
    "colab": {
      "provenance": [],
      "authorship_tag": "ABX9TyO6Rjx4DhdALTQ4/It290Fl",
      "include_colab_link": true
    },
    "kernelspec": {
      "name": "python3",
      "display_name": "Python 3"
    },
    "language_info": {
      "name": "python"
    }
  },
  "cells": [
    {
      "cell_type": "markdown",
      "metadata": {
        "id": "view-in-github",
        "colab_type": "text"
      },
      "source": [
        "<a href=\"https://colab.research.google.com/github/EkenoSamson/OOP/blob/main/Shirt_class.ipynb\" target=\"_parent\"><img src=\"https://colab.research.google.com/assets/colab-badge.svg\" alt=\"Open In Colab\"/></a>"
      ]
    },
    {
      "cell_type": "code",
      "execution_count": null,
      "metadata": {
        "id": "jDrNtUTsqjmw"
      },
      "outputs": [],
      "source": [
        "#shirt class\n",
        "class Shirt:\n",
        "  def __init__(self, shirt_colour, shirt_size, shirt_style, shirt_price):\n",
        "    self.colour = shirt_colour\n",
        "    self.size = shirt_size\n",
        "    self.style = shirt_style\n",
        "    self.price = shirt_price\n",
        "\n",
        "  #new_price method\n",
        "  def change_price(self, new_price):\n",
        "    self.price = new_price\n",
        "\n",
        "  #discount method\n",
        "  def discount(self, discount):\n",
        "    return self.price * (1 - discount)"
      ]
    },
    {
      "cell_type": "code",
      "source": [
        "#An instance\n",
        "Shirt('red', 'M', 'short sleeve', 15)"
      ],
      "metadata": {
        "colab": {
          "base_uri": "https://localhost:8080/"
        },
        "id": "MI1EQqrI4J-U",
        "outputId": "81ec7c6f-9beb-41a8-f534-d559fd385bc3"
      },
      "execution_count": null,
      "outputs": [
        {
          "output_type": "execute_result",
          "data": {
            "text/plain": [
              "<__main__.Shirt at 0x7b4622939bd0>"
            ]
          },
          "metadata": {},
          "execution_count": 2
        }
      ]
    },
    {
      "cell_type": "code",
      "source": [
        "new_shirt = Shirt('red', 'M', 'short sleeve', 15)"
      ],
      "metadata": {
        "id": "U1Du5dBV5CYd"
      },
      "execution_count": null,
      "outputs": []
    },
    {
      "cell_type": "code",
      "source": [
        "print(new_shirt.colour)\n",
        "print(new_shirt.size)\n",
        "print(new_shirt.price)\n",
        "print(new_shirt.size)"
      ],
      "metadata": {
        "colab": {
          "base_uri": "https://localhost:8080/"
        },
        "id": "GqP3elLr5NNd",
        "outputId": "6b7d94d5-e8ae-447c-d7ce-006d409e9ba4"
      },
      "execution_count": null,
      "outputs": [
        {
          "output_type": "stream",
          "name": "stdout",
          "text": [
            "red\n",
            "M\n",
            "15\n",
            "M\n"
          ]
        }
      ]
    },
    {
      "cell_type": "code",
      "source": [
        "new_shirt.change_price(10)"
      ],
      "metadata": {
        "id": "yMJ9Ra545R8B"
      },
      "execution_count": null,
      "outputs": []
    },
    {
      "cell_type": "code",
      "source": [
        "new_shirt.discount(0.2)"
      ],
      "metadata": {
        "colab": {
          "base_uri": "https://localhost:8080/"
        },
        "id": "32dth--h8Uku",
        "outputId": "238aa91a-4d4d-4799-af4e-9cd6ada610d2"
      },
      "execution_count": null,
      "outputs": [
        {
          "output_type": "execute_result",
          "data": {
            "text/plain": [
              "8.0"
            ]
          },
          "metadata": {},
          "execution_count": 8
        }
      ]
    },
    {
      "cell_type": "code",
      "source": [
        "shirt_collection = []\n",
        "shirt_one = Shirt('green', 'L', 'long sleeve', 20)\n",
        "shirt_two = Shirt('maroon', 'S', 'long sleeve', 10)\n",
        "shirt_three = Shirt('white', 'M', 'short sleeve', 8)\n",
        "\n",
        "shirt_collection.append(shirt_one)\n",
        "shirt_collection.append(shirt_two)\n",
        "shirt_collection.append(shirt_three)\n",
        "\n",
        "for i in range(len(shirt_collection)):\n",
        "  print(shirt_collection[i].colour)"
      ],
      "metadata": {
        "colab": {
          "base_uri": "https://localhost:8080/"
        },
        "id": "nacbl6JZ8Y1L",
        "outputId": "e3677401-46c0-4345-8218-6e0e1db1cec8"
      },
      "execution_count": null,
      "outputs": [
        {
          "output_type": "stream",
          "name": "stdout",
          "text": [
            "green\n",
            "maroon\n",
            "white\n"
          ]
        }
      ]
    },
    {
      "cell_type": "markdown",
      "source": [
        "## ***Exercise***"
      ],
      "metadata": {
        "id": "lczIDpZ_ECOc"
      }
    },
    {
      "cell_type": "code",
      "source": [
        "### TODO:\n",
        "#    - insantiate a shirt object with the following characteristics:\n",
        "#    - color red, size S, style long-sleeve, and price 25\n",
        "#    - store the object in a variable called shirt_one\n",
        "\n",
        "shirt_one = Shirt('red', 'S', 'long-sleeve', 25)"
      ],
      "metadata": {
        "id": "SUPU61RV9nXm"
      },
      "execution_count": 11,
      "outputs": []
    },
    {
      "cell_type": "code",
      "source": [
        "### TODO:\n",
        "#     - print the price of the shirt using the price attribute\n",
        "#     - use the change_price method to change the price of the shirt to 10\n",
        "#     - print the price of the shirt using the price attribute\n",
        "#     - use the discount method to print the price of the shirt with a 12% discount\n",
        "\n",
        "print(shirt_one.price)\n",
        "shirt_one.change_price(10)\n",
        "print(shirt_one.price)\n",
        "shirt_one.discount(0.12)"
      ],
      "metadata": {
        "colab": {
          "base_uri": "https://localhost:8080/"
        },
        "id": "dYrrLqQ4Fg42",
        "outputId": "c701bf74-ca69-47a2-ee60-6dbd1751fa95"
      },
      "execution_count": 12,
      "outputs": [
        {
          "output_type": "stream",
          "name": "stdout",
          "text": [
            "25\n",
            "10\n"
          ]
        },
        {
          "output_type": "execute_result",
          "data": {
            "text/plain": [
              "8.8"
            ]
          },
          "metadata": {},
          "execution_count": 12
        }
      ]
    },
    {
      "cell_type": "code",
      "source": [
        "### TODO:\n",
        "#    - instantiate another object with the following characteristics:\n",
        "#    - color orange, size L, style short-sleeve, and price 10\n",
        "#    - store the object in a variable called shirt_two\n",
        "\n",
        "shirt_two = Shirt('orange', 'L', 'short-sleeve', 10)"
      ],
      "metadata": {
        "id": "f3UjtAnNF3M0"
      },
      "execution_count": 13,
      "outputs": []
    },
    {
      "cell_type": "code",
      "source": [
        "### TODO:\n",
        "#    - calculate the total cost of shirt_one and shirt_two\n",
        "#    - store the results in a variable called total\n",
        "\n",
        "total = shirt_one.price + shirt_two.price\n",
        "print(total)"
      ],
      "metadata": {
        "colab": {
          "base_uri": "https://localhost:8080/"
        },
        "id": "L-6tUPS2GTEa",
        "outputId": "e7e76a01-38da-4634-ae03-64b88a3f592c"
      },
      "execution_count": 14,
      "outputs": [
        {
          "output_type": "stream",
          "name": "stdout",
          "text": [
            "20\n"
          ]
        }
      ]
    },
    {
      "cell_type": "code",
      "source": [
        "### TODO:\n",
        "#    - use the shirt discount method to calculate the total cost if shirt_one has a discount of 14% and shirt_two has a discount of 6%\n",
        "#    - store the results in a variable called total_discount\n",
        "\n",
        "total_discount = shirt_one.discount(0.14) + shirt_two.discount(0.06)\n",
        "print(total_discount)"
      ],
      "metadata": {
        "colab": {
          "base_uri": "https://localhost:8080/"
        },
        "id": "qhvc6UMjGtQ0",
        "outputId": "803837a3-3ca7-451f-f192-3ad3f6d7fcf7"
      },
      "execution_count": 15,
      "outputs": [
        {
          "output_type": "stream",
          "name": "stdout",
          "text": [
            "18.0\n"
          ]
        }
      ]
    },
    {
      "cell_type": "code",
      "source": [],
      "metadata": {
        "id": "_qaumPMqH0WG"
      },
      "execution_count": null,
      "outputs": []
    }
  ]
}