{
  "nbformat": 4,
  "nbformat_minor": 0,
  "metadata": {
    "colab": {
      "provenance": [],
      "authorship_tag": "ABX9TyMCB/mKorpZqj7yKdayHQow",
      "include_colab_link": true
    },
    "kernelspec": {
      "name": "python3",
      "display_name": "Python 3"
    },
    "language_info": {
      "name": "python"
    }
  },
  "cells": [
    {
      "cell_type": "markdown",
      "metadata": {
        "id": "view-in-github",
        "colab_type": "text"
      },
      "source": [
        "<a href=\"https://colab.research.google.com/github/EkenoSamson/OOP/blob/main/Employee_class.ipynb\" target=\"_parent\"><img src=\"https://colab.research.google.com/assets/colab-badge.svg\" alt=\"Open In Colab\"/></a>"
      ]
    },
    {
      "cell_type": "code",
      "execution_count": null,
      "metadata": {
        "id": "2gHDDzRz0wzj"
      },
      "outputs": [],
      "source": [
        "class Employee():\n",
        "  #class variables\n",
        "  no_of_employees  = 0\n",
        "  raise_amount = 1.04\n",
        "\n",
        "  def __init__(self, first, last, pay):\n",
        "    self.first = first\n",
        "    self.last = last\n",
        "    self.pay = pay\n",
        "    self.email = first + '.' + last + '@company.com'\n",
        "\n",
        "    Employee.no_of_employees += 1\n",
        "\n",
        "  #instance variable\n",
        "  def fullname(self):\n",
        "    return f'{self.first} {self.last}'\n",
        "\n",
        "  #instance method for calculating employee pay after raise\n",
        "  def apply_raise(self):   #class varible\n",
        "    self.pay = int(self.pay * self.raise_amount)\n",
        "\n",
        "  #class method for raise pay\n",
        "  @classmethod\n",
        "  def set_raise_amount(cls, amount): #can not use the class word\n",
        "    cls.raise_amount = amount\n",
        "\n",
        "  #class method for accepting string input and splitting\n",
        "  #if the input is entered as a string separated by coma\n",
        "  @classmethod\n",
        "  def from_string(cls, emp_str):\n",
        "    first, last, pay = emp_str.split(',')\n",
        "    return cls(first, last, pay)\n"
      ]
    },
    {
      "cell_type": "code",
      "source": [
        "emp_1 = Employee('John', 'Mark', 50000)\n",
        "emp_2 = Employee('Lokwang', 'Emuria', 60000)"
      ],
      "metadata": {
        "id": "3Uz-sQMg1b-s"
      },
      "execution_count": null,
      "outputs": []
    },
    {
      "cell_type": "code",
      "source": [
        "Employee.no_of_employees"
      ],
      "metadata": {
        "colab": {
          "base_uri": "https://localhost:8080/"
        },
        "id": "4l17zhk2nA5w",
        "outputId": "7a56f683-a49d-4a22-cd5f-327b720e9677"
      },
      "execution_count": null,
      "outputs": [
        {
          "output_type": "execute_result",
          "data": {
            "text/plain": [
              "2"
            ]
          },
          "metadata": {},
          "execution_count": 3
        }
      ]
    },
    {
      "cell_type": "code",
      "source": [
        "print(emp_1.pay)\n",
        "print(f'{emp_1.email}')\n",
        "emp_1.fullname()"
      ],
      "metadata": {
        "colab": {
          "base_uri": "https://localhost:8080/",
          "height": 70
        },
        "id": "shoSM8mu1lMf",
        "outputId": "23eacf37-0119-4b57-b8b5-05d4d6094b41"
      },
      "execution_count": null,
      "outputs": [
        {
          "output_type": "stream",
          "name": "stdout",
          "text": [
            "50000\n",
            "John.Mark@company.com\n"
          ]
        },
        {
          "output_type": "execute_result",
          "data": {
            "text/plain": [
              "'John Mark'"
            ],
            "application/vnd.google.colaboratory.intrinsic+json": {
              "type": "string"
            }
          },
          "metadata": {},
          "execution_count": 4
        }
      ]
    },
    {
      "cell_type": "code",
      "source": [
        "emp_1.apply_raise()\n",
        "emp_1.pay"
      ],
      "metadata": {
        "id": "DQFeKTRk1w2i",
        "colab": {
          "base_uri": "https://localhost:8080/"
        },
        "outputId": "e6343610-1f74-48a9-8206-86937bf231fd"
      },
      "execution_count": null,
      "outputs": [
        {
          "output_type": "execute_result",
          "data": {
            "text/plain": [
              "52000"
            ]
          },
          "metadata": {},
          "execution_count": 5
        }
      ]
    },
    {
      "cell_type": "code",
      "source": [],
      "metadata": {
        "id": "zIaZjYJNlNCQ"
      },
      "execution_count": null,
      "outputs": []
    }
  ]
}